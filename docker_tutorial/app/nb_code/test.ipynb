{
 "cells": [
  {
   "cell_type": "code",
   "execution_count": 2,
   "metadata": {},
   "outputs": [],
   "source": [
    "import pandas as pd"
   ]
  },
  {
   "cell_type": "code",
   "execution_count": 3,
   "metadata": {},
   "outputs": [
    {
     "name": "stdout",
     "output_type": "stream",
     "text": [
      "Subset DataFrame:\n",
      "     Name  Age         Country\n",
      "1  Nelson   50  South Africa  \n"
     ]
    }
   ],
   "source": [
    "# Read the CSV file into a DataFrame\n",
    "df = pd.read_csv('../app_data/sample_data.csv')\n",
    "\n",
    "# Query the DataFrame for individuals with Age less than 40\n",
    "subset_df = df[df['Age'] > 40]\n",
    "\n",
    "# Print the subset DataFrame\n",
    "print(\"Subset DataFrame:\")\n",
    "print(subset_df)\n",
    "# add yet another comment\n",
    "# Save the subset DataFrame to another CSV file..\n",
    "subset_df.to_csv('../app_data/sub_sample_data2.csv', index=False)\n"
   ]
  },
  {
   "cell_type": "code",
   "execution_count": null,
   "metadata": {},
   "outputs": [],
   "source": []
  }
 ],
 "metadata": {
  "kernelspec": {
   "display_name": "Python 3 (ipykernel)",
   "language": "python",
   "name": "python3"
  },
  "language_info": {
   "codemirror_mode": {
    "name": "ipython",
    "version": 3
   },
   "file_extension": ".py",
   "mimetype": "text/x-python",
   "name": "python",
   "nbconvert_exporter": "python",
   "pygments_lexer": "ipython3",
   "version": "3.10.13"
  }
 },
 "nbformat": 4,
 "nbformat_minor": 4
}
